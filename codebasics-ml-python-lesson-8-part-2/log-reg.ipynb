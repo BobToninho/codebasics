{
 "cells": [
  {
   "cell_type": "code",
   "execution_count": 1,
   "metadata": {},
   "outputs": [],
   "source": [
    "import pandas as pd\n",
    "from sklearn.datasets import load_digits\n"
   ]
  },
  {
   "cell_type": "code",
   "execution_count": 2,
   "metadata": {},
   "outputs": [],
   "source": [
    "digits = load_digits()\n"
   ]
  },
  {
   "cell_type": "code",
   "execution_count": 3,
   "metadata": {},
   "outputs": [
    {
     "data": {
      "text/plain": [
       "['DESCR', 'data', 'feature_names', 'frame', 'images', 'target', 'target_names']"
      ]
     },
     "execution_count": 3,
     "metadata": {},
     "output_type": "execute_result"
    }
   ],
   "source": [
    "dir(digits)\n"
   ]
  },
  {
   "cell_type": "code",
   "execution_count": 10,
   "metadata": {},
   "outputs": [
    {
     "data": {
      "text/plain": [
       "array([0, 1, 2, 3, 4, 5, 6, 7, 8, 9])"
      ]
     },
     "execution_count": 10,
     "metadata": {},
     "output_type": "execute_result"
    }
   ],
   "source": [
    "digits.target_names\n"
   ]
  },
  {
   "cell_type": "code",
   "execution_count": 14,
   "metadata": {},
   "outputs": [],
   "source": [
    "from sklearn.model_selection import train_test_split\n"
   ]
  },
  {
   "cell_type": "code",
   "execution_count": 16,
   "metadata": {},
   "outputs": [],
   "source": [
    "X_train, X_test, y_train, y_test = train_test_split(\n",
    "    digits.data,\n",
    "    digits.target,\n",
    "    test_size=0.2,\n",
    ")\n"
   ]
  },
  {
   "cell_type": "code",
   "execution_count": 18,
   "metadata": {},
   "outputs": [
    {
     "data": {
      "text/plain": [
       "(1437, 360, 1437, 360)"
      ]
     },
     "execution_count": 18,
     "metadata": {},
     "output_type": "execute_result"
    }
   ],
   "source": [
    "len(X_train), len(X_test), len(y_train), len(y_test)\n"
   ]
  },
  {
   "cell_type": "code",
   "execution_count": 23,
   "metadata": {},
   "outputs": [],
   "source": [
    "from sklearn.linear_model import LogisticRegression\n",
    "\n",
    "model = LogisticRegression(max_iter=10000)\n"
   ]
  },
  {
   "cell_type": "code",
   "execution_count": 24,
   "metadata": {},
   "outputs": [
    {
     "data": {
      "text/plain": [
       "LogisticRegression(max_iter=10000)"
      ]
     },
     "execution_count": 24,
     "metadata": {},
     "output_type": "execute_result"
    }
   ],
   "source": [
    "model.fit(X_train, y_train)\n"
   ]
  },
  {
   "cell_type": "code",
   "execution_count": 28,
   "metadata": {},
   "outputs": [
    {
     "data": {
      "text/plain": [
       "array([0, 5, 5, 6, 0, 3, 6, 8, 0, 4, 2, 6, 5, 1, 7, 8, 6, 7, 3, 7, 5, 0,\n",
       "       4, 4, 2, 2, 5, 3, 4, 6, 8, 2, 3, 4, 4, 4, 1, 0, 3, 6, 1, 0, 6, 0,\n",
       "       3, 5, 8, 3, 2, 0, 8, 5, 4, 0, 0, 9, 2, 3, 2, 3, 9, 4, 9, 1, 5, 7,\n",
       "       6, 5, 8, 9, 7, 9, 5, 8, 5, 4, 4, 3, 7, 1, 5, 6, 8, 8, 4, 8, 8, 1,\n",
       "       7, 9, 8, 0, 2, 5, 2, 2, 6, 1, 3, 6, 6, 7, 1, 6, 4, 1, 3, 1, 2, 1,\n",
       "       0, 2, 9, 6, 0, 4, 4, 0, 2, 0, 1, 7, 7, 5, 3, 2, 6, 7, 8, 4, 6, 0,\n",
       "       7, 9, 5, 6, 2, 5, 6, 5, 5, 5, 3, 0, 7, 3, 8, 0, 8, 2, 8, 2, 8, 4,\n",
       "       3, 6, 3, 0, 2, 6, 9, 3, 8, 3, 2, 3, 6, 1, 9, 0, 9, 4, 1, 6, 8, 5,\n",
       "       6, 9, 6, 3, 9, 5, 7, 1, 6, 7, 7, 7, 8, 4, 8, 8, 0, 7, 1, 5, 7, 5,\n",
       "       4, 6, 1, 7, 1, 9, 2, 5, 3, 9, 5, 8, 9, 0, 8, 4, 0, 5, 1, 0, 6, 5,\n",
       "       6, 8, 5, 7, 2, 6, 8, 9, 5, 7, 0, 0, 9, 9, 9, 8, 1, 0, 3, 9, 0, 2,\n",
       "       6, 4, 3, 8, 5, 4, 3, 6, 8, 9, 2, 5, 5, 3, 3, 2, 5, 9, 5, 6, 8, 3,\n",
       "       6, 4, 1, 9, 1, 4, 3, 7, 6, 5, 0, 1, 6, 8, 7, 1, 2, 1, 3, 6, 0, 6,\n",
       "       0, 7, 2, 1, 9, 1, 5, 6, 6, 8, 1, 7, 8, 9, 5, 3, 3, 0, 3, 8, 8, 2,\n",
       "       5, 4, 6, 2, 1, 8, 7, 4, 3, 4, 9, 5, 9, 2, 3, 2, 1, 2, 0, 0, 9, 7,\n",
       "       6, 1, 5, 1, 4, 7, 6, 8, 6, 5, 7, 8, 7, 1, 7, 8, 5, 7, 8, 5, 0, 9,\n",
       "       0, 2, 0, 2, 6, 3, 2, 2])"
      ]
     },
     "execution_count": 28,
     "metadata": {},
     "output_type": "execute_result"
    }
   ],
   "source": [
    "y_predicted = model.predict(X_test)\n",
    "y_predicted\n"
   ]
  },
  {
   "cell_type": "code",
   "execution_count": 26,
   "metadata": {},
   "outputs": [
    {
     "data": {
      "text/plain": [
       "0.975"
      ]
     },
     "execution_count": 26,
     "metadata": {},
     "output_type": "execute_result"
    }
   ],
   "source": [
    "model.score(X_test, y_test)\n"
   ]
  },
  {
   "cell_type": "code",
   "execution_count": 29,
   "metadata": {},
   "outputs": [],
   "source": [
    "from sklearn.metrics import confusion_matrix\n"
   ]
  },
  {
   "cell_type": "code",
   "execution_count": 30,
   "metadata": {},
   "outputs": [
    {
     "data": {
      "text/plain": [
       "array([[37,  0,  0,  0,  0,  0,  0,  0,  0,  0],\n",
       "       [ 0, 31,  0,  0,  0,  0,  0,  0,  1,  0],\n",
       "       [ 0,  0, 33,  0,  0,  0,  0,  0,  0,  0],\n",
       "       [ 0,  0,  2, 36,  0,  0,  0,  0,  0,  0],\n",
       "       [ 0,  0,  0,  0, 28,  0,  0,  0,  0,  0],\n",
       "       [ 0,  0,  0,  0,  0, 43,  0,  1,  0,  0],\n",
       "       [ 0,  1,  0,  0,  0,  0, 44,  0,  0,  0],\n",
       "       [ 0,  0,  0,  0,  0,  0,  0, 32,  0,  1],\n",
       "       [ 0,  1,  0,  0,  1,  0,  0,  0, 38,  0],\n",
       "       [ 0,  0,  0,  0,  0,  0,  0,  0,  1, 29]])"
      ]
     },
     "execution_count": 30,
     "metadata": {},
     "output_type": "execute_result"
    }
   ],
   "source": [
    "cm = confusion_matrix(y_test, y_predicted)\n",
    "cm\n"
   ]
  },
  {
   "cell_type": "code",
   "execution_count": 32,
   "metadata": {},
   "outputs": [
    {
     "data": {
      "text/plain": [
       "Text(69.0, 0.5, 'True')"
      ]
     },
     "execution_count": 32,
     "metadata": {},
     "output_type": "execute_result"
    },
    {
     "data": {
      "image/png": "[encoded data removed]",
      "text/plain": [
       "<Figure size 720x504 with 2 Axes>"
      ]
     },
     "metadata": {
      "needs_background": "light"
     },
     "output_type": "display_data"
    }
   ],
   "source": [
    "import seaborn as sn\n",
    "from matplotlib import pyplot as plt\n",
    "\n",
    "plt.figure(figsize=(10, 7))\n",
    "sn.heatmap(cm, annot=True)\n",
    "plt.xlabel(\"Predicted\")\n",
    "plt.ylabel(\"True\")\n"
   ]
  }
 ],
 "metadata": {
  "interpreter": {
   "hash": "edd9a7954580158322ea7bf85920c963e290ca3fe58e5e1d1fb8a6a450d93a23"
  },
  "kernelspec": {
   "display_name": "Python 3.8.10 ('venv': venv)",
   "language": "python",
   "name": "python3"
  },
  "language_info": {
   "codemirror_mode": {
    "name": "ipython",
    "version": 3
   },
   "file_extension": ".py",
   "mimetype": "text/x-python",
   "name": "python",
   "nbconvert_exporter": "python",
   "pygments_lexer": "ipython3",
   "version": "3.8.10"
  },
  "orig_nbformat": 4
 },
 "nbformat": 4,
 "nbformat_minor": 2
}
